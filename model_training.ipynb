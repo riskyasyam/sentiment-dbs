{
 "cells": [
  {
   "cell_type": "code",
   "execution_count": 1,
   "id": "af99aac8",
   "metadata": {},
   "outputs": [],
   "source": [
    "import pandas as pd"
   ]
  },
  {
   "cell_type": "markdown",
   "id": "79b9ec73",
   "metadata": {},
   "source": [
    "<H1>Load Dataset"
   ]
  },
  {
   "cell_type": "code",
   "execution_count": 2,
   "id": "4ea6cfbf",
   "metadata": {},
   "outputs": [
    {
     "name": "stdout",
     "output_type": "stream",
     "text": [
      "Jumlah data 20000\n"
     ]
    }
   ],
   "source": [
    "#Baca Hasil Scraping\n",
    "df = pd.read_csv('shopee_reviews.csv')\n",
    "df.dropna(subset=['content'], inplace=True)\n",
    "\n",
    "print('Jumlah data', len(df))"
   ]
  },
  {
   "cell_type": "code",
   "execution_count": 3,
   "id": "dbe2c918",
   "metadata": {},
   "outputs": [
    {
     "data": {
      "text/html": [
       "<div>\n",
       "<style scoped>\n",
       "    .dataframe tbody tr th:only-of-type {\n",
       "        vertical-align: middle;\n",
       "    }\n",
       "\n",
       "    .dataframe tbody tr th {\n",
       "        vertical-align: top;\n",
       "    }\n",
       "\n",
       "    .dataframe thead th {\n",
       "        text-align: right;\n",
       "    }\n",
       "</style>\n",
       "<table border=\"1\" class=\"dataframe\">\n",
       "  <thead>\n",
       "    <tr style=\"text-align: right;\">\n",
       "      <th></th>\n",
       "      <th>userName</th>\n",
       "      <th>content</th>\n",
       "      <th>score</th>\n",
       "      <th>at</th>\n",
       "    </tr>\n",
       "  </thead>\n",
       "  <tbody>\n",
       "    <tr>\n",
       "      <th>0</th>\n",
       "      <td>Gerald Yoseka</td>\n",
       "      <td>bagus</td>\n",
       "      <td>5</td>\n",
       "      <td>2025-04-08 13:21:45</td>\n",
       "    </tr>\n",
       "    <tr>\n",
       "      <th>1</th>\n",
       "      <td>Yuliana Ziraluo</td>\n",
       "      <td>bagus sekali untuk mencari barang yang dibutuhkan</td>\n",
       "      <td>5</td>\n",
       "      <td>2025-04-08 13:21:38</td>\n",
       "    </tr>\n",
       "    <tr>\n",
       "      <th>2</th>\n",
       "      <td>Wahyu Qur'an</td>\n",
       "      <td>sebagai member platinum shopee kecewa rasanya ...</td>\n",
       "      <td>1</td>\n",
       "      <td>2025-04-08 13:21:33</td>\n",
       "    </tr>\n",
       "    <tr>\n",
       "      <th>3</th>\n",
       "      <td>Aat Atmanah</td>\n",
       "      <td>kadang kesel kalau tokonya yang ngirim sesuai ...</td>\n",
       "      <td>5</td>\n",
       "      <td>2025-04-08 13:19:40</td>\n",
       "    </tr>\n",
       "    <tr>\n",
       "      <th>4</th>\n",
       "      <td>Alexander Darren</td>\n",
       "      <td>belanja enak,,banyak diskon</td>\n",
       "      <td>5</td>\n",
       "      <td>2025-04-08 13:19:36</td>\n",
       "    </tr>\n",
       "  </tbody>\n",
       "</table>\n",
       "</div>"
      ],
      "text/plain": [
       "           userName                                            content  score  \\\n",
       "0     Gerald Yoseka                                              bagus      5   \n",
       "1   Yuliana Ziraluo  bagus sekali untuk mencari barang yang dibutuhkan      5   \n",
       "2      Wahyu Qur'an  sebagai member platinum shopee kecewa rasanya ...      1   \n",
       "3       Aat Atmanah  kadang kesel kalau tokonya yang ngirim sesuai ...      5   \n",
       "4  Alexander Darren                        belanja enak,,banyak diskon      5   \n",
       "\n",
       "                    at  \n",
       "0  2025-04-08 13:21:45  \n",
       "1  2025-04-08 13:21:38  \n",
       "2  2025-04-08 13:21:33  \n",
       "3  2025-04-08 13:19:40  \n",
       "4  2025-04-08 13:19:36  "
      ]
     },
     "execution_count": 3,
     "metadata": {},
     "output_type": "execute_result"
    }
   ],
   "source": [
    "df.head()"
   ]
  },
  {
   "cell_type": "code",
   "execution_count": 4,
   "id": "80615542",
   "metadata": {},
   "outputs": [
    {
     "name": "stdout",
     "output_type": "stream",
     "text": [
      "<class 'pandas.core.frame.DataFrame'>\n",
      "RangeIndex: 20000 entries, 0 to 19999\n",
      "Data columns (total 4 columns):\n",
      " #   Column    Non-Null Count  Dtype \n",
      "---  ------    --------------  ----- \n",
      " 0   userName  20000 non-null  object\n",
      " 1   content   20000 non-null  object\n",
      " 2   score     20000 non-null  int64 \n",
      " 3   at        20000 non-null  object\n",
      "dtypes: int64(1), object(3)\n",
      "memory usage: 625.1+ KB\n"
     ]
    }
   ],
   "source": [
    "df.info()"
   ]
  },
  {
   "cell_type": "markdown",
   "id": "366feadf",
   "metadata": {},
   "source": [
    "**Insight**\n",
    "- Tidak ada missing values pada dataset"
   ]
  },
  {
   "cell_type": "code",
   "execution_count": 5,
   "id": "9677fffb",
   "metadata": {},
   "outputs": [
    {
     "name": "stdout",
     "output_type": "stream",
     "text": [
      "Jumlah duplicate data: 5254\n"
     ]
    }
   ],
   "source": [
    "duplicate_count = df.duplicated(subset=['content']).sum()\n",
    "print(f'Jumlah duplicate data: {duplicate_count}')"
   ]
  },
  {
   "cell_type": "code",
   "execution_count": 6,
   "id": "8fc40e00",
   "metadata": {},
   "outputs": [
    {
     "name": "stdout",
     "output_type": "stream",
     "text": [
      "Jumlah data setelah hapus duplicate: 14746\n"
     ]
    }
   ],
   "source": [
    "df_clean = df.drop_duplicates(subset=['content']).reset_index(drop=True)\n",
    "\n",
    "print(f'Jumlah data setelah hapus duplicate: {len(df_clean)}')"
   ]
  },
  {
   "cell_type": "markdown",
   "id": "19f28578",
   "metadata": {},
   "source": [
    "**Insigth**\n",
    "- Sesuai dengan ketentuan minimal sampel data yaitu 10ribu"
   ]
  },
  {
   "cell_type": "markdown",
   "id": "e58120f5",
   "metadata": {},
   "source": [
    "<h1> Text Pre Processing"
   ]
  },
  {
   "cell_type": "code",
   "execution_count": 7,
   "id": "9fadde42",
   "metadata": {},
   "outputs": [],
   "source": [
    "import re\n",
    "import string\n",
    "import nltk\n",
    "from Sastrawi.Stemmer.StemmerFactory import StemmerFactory\n",
    "from nltk.corpus import stopwords\n",
    "from nltk.tokenize import word_tokenize"
   ]
  },
  {
   "cell_type": "code",
   "execution_count": 10,
   "id": "ced74073",
   "metadata": {},
   "outputs": [],
   "source": [
    "#1. Cleaning: Membersihkan teks dari hal-hal tidak perlu\n",
    "def clean_text(text):\n",
    "    text = re.sub(r\"http\\S+|www\\S+|https\\S+\", '', text) # Menghapus link\n",
    "    text = re.sub(r\"\\d+\", '', text) # Menghapus angka\n",
    "    text = re.sub(r\"[^\\w\\s]\", '', text) # Menghapus simbol\n",
    "    text = text.replace('\\n', ' ') # Mengganti newline dengan spasi\n",
    "    text = text.strip()\n",
    "    return text\n",
    "\n",
    "#2. Konversi ke huruf kecil\n",
    "def casefoldingText(text):\n",
    "    text = text.lower()\n",
    "    return text\n",
    "\n",
    "#3. Tokenisasi\n",
    "def tokenizingText(text):\n",
    "    tokens = word_tokenize(text)\n",
    "    return tokens\n",
    "\n",
    "#4. Menghapus stopwords (Indonesia + Inggris + tambahan kata umum)\n",
    "def filteringText(text):\n",
    "    listStopwords = set(stopwords.words('indonesian'))\n",
    "    listStopwords1 = set(stopwords.words('english'))\n",
    "    listStopwords.update(listStopwords1)\n",
    "    listStopwords.update([\n",
    "        'iya','yaa','gak','nya','na','sih','ku',\n",
    "        'di','ga','ya','gaa','loh','kah','woi','woii','woy',\n",
    "        'shopee', 'barang', 'aplikasi', 'belanja',\n",
    "    ])\n",
    "    return [word for word in text if word not in listStopwords]\n",
    "\n",
    "#5. Stemming (Bahasa Indonesia)\n",
    "def stemmingText(text):\n",
    "    factory = StemmerFactory()\n",
    "    stemmer = factory.create_stemmer()\n",
    "    words = text.split()\n",
    "    stemmed_words = [stemmer.stem(word) for word in words]\n",
    "    return ' '.join(stemmed_words)\n",
    "\n",
    "#6. Ubah list token jadi kalimat lagi\n",
    "def toSentence(list_words):\n",
    "    return ' '.join(list_words)"
   ]
  },
  {
   "cell_type": "code",
   "execution_count": 11,
   "id": "1ef01b17",
   "metadata": {},
   "outputs": [],
   "source": [
    "slangwords = {\n",
    "    \"bgt\": \"banget\", \"maks\": \"maksimal\", \"udh\": \"sudah\", \"aja\": \"saja\", \"blm\": \"belum\", \n",
    "    \"trs\": \"terus\", \"tdk\": \"tidak\", \"gk\": \"tidak\", \"ga\": \"tidak\", \"dr\": \"dari\", \"dpt\": \"dapat\",\n",
    "    \"brg\": \"barang\", \"bgus\": \"bagus\", \"gpp\": \"tidak apa\", \"sgt\": \"sangat\"\n",
    "}\n",
    "def fix_slangwords(text):\n",
    "    words = text.split()\n",
    "    fixed_words = []\n",
    " \n",
    "    for word in words:\n",
    "        if word.lower() in slangwords:\n",
    "            fixed_words.append(slangwords[word.lower()])\n",
    "        else:\n",
    "            fixed_words.append(word)\n",
    " \n",
    "    fixed_text = ' '.join(fixed_words)\n",
    "    return fixed_text"
   ]
  },
  {
   "cell_type": "code",
   "execution_count": null,
   "id": "a7059d83",
   "metadata": {},
   "outputs": [],
   "source": []
  }
 ],
 "metadata": {
  "kernelspec": {
   "display_name": "base",
   "language": "python",
   "name": "python3"
  },
  "language_info": {
   "codemirror_mode": {
    "name": "ipython",
    "version": 3
   },
   "file_extension": ".py",
   "mimetype": "text/x-python",
   "name": "python",
   "nbconvert_exporter": "python",
   "pygments_lexer": "ipython3",
   "version": "3.12.4"
  }
 },
 "nbformat": 4,
 "nbformat_minor": 5
}
